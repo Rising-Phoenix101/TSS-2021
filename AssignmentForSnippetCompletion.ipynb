{
  "nbformat": 4,
  "nbformat_minor": 5,
  "metadata": {
    "kernelspec": {
      "name": "python3",
      "display_name": "Python 3",
      "language": "python"
    },
    "language_info": {
      "name": "python",
      "version": "3.6.13",
      "mimetype": "text/x-python",
      "codemirror_mode": {
        "name": "ipython",
        "version": 3
      },
      "pygments_lexer": "ipython3",
      "nbconvert_exporter": "python",
      "file_extension": ".py"
    },
    "colab": {
      "name": "AssignmentForSnippetCompletion.ipynb",
      "provenance": [],
      "include_colab_link": true
    }
  },
  "cells": [
    {
      "cell_type": "markdown",
      "metadata": {
        "id": "view-in-github",
        "colab_type": "text"
      },
      "source": [
        "<a href=\"https://colab.research.google.com/github/Rising-Phoenix101/TSS-2021/blob/main/AssignmentForSnippetCompletion.ipynb\" target=\"_parent\"><img src=\"https://colab.research.google.com/assets/colab-badge.svg\" alt=\"Open In Colab\"/></a>"
      ]
    },
    {
      "cell_type": "markdown",
      "metadata": {
        "id": "7e25n3vMboDe"
      },
      "source": [
        "# Assignment: Complete the Snippet\n"
      ],
      "id": "7e25n3vMboDe"
    },
    {
      "cell_type": "markdown",
      "metadata": {
        "id": "DAapEukKboDf"
      },
      "source": [
        "Shubh started building a basic Python Script which goes through the entire text of a particular book and mugs up all its words. After that it asks you for a word, goes over the times when this word came in the text and gives you the complete sentence in which it was used. You may choose to ask for as many such sentences as the number of occurences of the word.\n",
        "\n",
        "He's managed to come up with the part where he loads the file into Memory. He also managed to come up with snippets of code which could potentially do something if completed, but he has many deadlines to look after and not enough caffeine to turn to code. Can you help him?"
      ],
      "id": "DAapEukKboDf"
    },
    {
      "cell_type": "code",
      "metadata": {
        "trusted": true,
        "id": "PX715GEVboDg"
      },
      "source": [
        "File = open(\"/hello.txt\",'r')     #This helps in opening the file which is to be read"
      ],
      "id": "PX715GEVboDg",
      "execution_count": 79,
      "outputs": []
    },
    {
      "cell_type": "markdown",
      "metadata": {
        "id": "tK3qfEVWmy3l"
      },
      "source": [
        ""
      ],
      "id": "tK3qfEVWmy3l"
    },
    {
      "cell_type": "markdown",
      "metadata": {
        "id": "OM2n3D0XboDh"
      },
      "source": [
        "Next he makes a list of all the words present in the novel mapping them to their index(position) in the list of words (i.e. ListOfWords). This is done by mapping every word (a string) to a list (list of indices), and this is stored as a Dictionary (DictionaryoOfWords)\n",
        "\n",
        "\n",
        "\n",
        "He makes use of the readlines() method which is used to extract all the lines from any text and the split() function which could be used to split any sentence into distinct words. The replace() method is used on strings to replace certain segments of the string with something else."
      ],
      "id": "OM2n3D0XboDh"
    },
    {
      "cell_type": "code",
      "metadata": {
        "trusted": true,
        "colab": {
          "base_uri": "https://localhost:8080/"
        },
        "id": "kCPRVPI4boDi",
        "outputId": "a271dc07-b41a-4c43-ec73-745398418539"
      },
      "source": [
        "DictionaryOfWords = {}         #Dictionary mapping every word to a list (of indices of the words' occurences)\n",
        "Novel = []                     #List of all words in the order, in which they appear!\n",
        "\n",
        "\n",
        "\n",
        "i = 0                   #Counter Variable to keep track of index of words\n",
        "\n",
        "for line in File.readlines():     #Iterate over all lines present in the text\n",
        "    \n",
        "    #Look at Python's Conciseness!\n",
        "    \n",
        "    line = line.replace(\".\",\"\").replace(\",\",\"\").replace('?','').replace('!','').replace('[','').replace(']','') \\\n",
        "    .replace('(','').replace(')','').replace('%','').replace('/','')\n",
        "    #print(line)  \n",
        "    #COMPLETE THE CODE FROM HERE:\n",
        "    \n",
        "    #This would split the line into many different words, and iterate over these words\n",
        "    \n",
        "    for word in line.split(' '): \n",
        "                                                                             \n",
        "        if word in DictionaryOfWords.keys():     #If the word is already present in the dictionary\n",
        "                                                                             \n",
        "            DictionaryOfWords[word].append(i)        #Add the index into the pre-existing list for this word\n",
        "                                                                             \n",
        "        else:\n",
        "            DictionaryOfWords[word]=[i]        #Create a new list of indices for this word, with a single element\n",
        "                                                                             \n",
        "        \n",
        "        Novel.append(word)        #Add the Word in the Novel's ordered list of words\n",
        "                                                                             \n",
        "        i+=1\n",
        "#print(Novel)\n",
        "print(DictionaryOfWords)\n",
        "    "
      ],
      "id": "kCPRVPI4boDi",
      "execution_count": 80,
      "outputs": [
        {
          "output_type": "stream",
          "text": [
            "{'hello': [0], 'ujjwal': [1, 17], 'here\\n': [2], 'i': [3, 12], 'want': [4, 14], 'to': [5, 7, 15], 'bc': [6], 'aerospace\\n': [8], 'pls': [9], 'help': [10], 'me\\n': [11], 'also': [13], 'meet': [16], 'in': [18], 'aerospace': [19], 'department': [20]}\n"
          ],
          "name": "stdout"
        }
      ]
    },
    {
      "cell_type": "markdown",
      "metadata": {
        "id": "GA1iw35uboDj"
      },
      "source": [
        "That guy truly left a lot of work for you!\n",
        "\n",
        "Now that you've done that, We have the words in the novel alongwith where they appeared in the text loaded into memory (Thanks to You!).\n",
        "\n",
        "The Next Step would be to answer any queries the user may have.\n",
        "\n",
        "To do this, we define the function GetQuery() which returns the word as well as the number of results the user wants to see (as a tuple):\n",
        "\n"
      ],
      "id": "GA1iw35uboDj"
    },
    {
      "cell_type": "code",
      "metadata": {
        "trusted": true,
        "id": "IxOgNlFPboDj"
      },
      "source": [
        "#COMPLETE THE CODE FROM HERE:\n",
        "\n",
        "def GetQuery():\n",
        "   \n",
        "    word = input(\"Input word: \")       #Get Input from the user regarding what word s/he wants to query for\n",
        "\n",
        "    Number = input(\"Input number of results you want to see: \")      #Get Input from the user regarding how many results the user wants to see\n",
        "\n",
        "    return (word,Number)                 #Return as output a tuple of the word and the Number of results       "
      ],
      "id": "IxOgNlFPboDj",
      "execution_count": 81,
      "outputs": []
    },
    {
      "cell_type": "markdown",
      "metadata": {
        "id": "DbAyYl16boDk"
      },
      "source": [
        "Now, We need a function which takes as input the index of any particular word and prints the words surrounding it as if they were in an actual sentence. \n",
        "\n",
        "This is done by iterating over the words surrounding it, and printing them with gaps in between. We also assume that this occurence isn't a boundary case and thus, the 10 words surronding it actually exist."
      ],
      "id": "DbAyYl16boDk"
    },
    {
      "cell_type": "code",
      "metadata": {
        "trusted": true,
        "id": "dsbGwh9fboDk"
      },
      "source": [
        "def PrintContext(index):\n",
        "    \n",
        "    global Novel                          #Declares the list Novel as a Global Variable\n",
        "    \n",
        "    #COMPLETE THE CODE FROM HERE:\n",
        "    \n",
        "    for i in range(0, index ) :           #Define the range so that the task above is fulfilled\n",
        "        \n",
        "        print(Novel[i], end = ' ')          #Print the word (using List Indexing) with a space after that\n",
        "        \n",
        "    print('\\n')"
      ],
      "id": "dsbGwh9fboDk",
      "execution_count": 82,
      "outputs": []
    },
    {
      "cell_type": "markdown",
      "metadata": {
        "id": "1-5WGM8mboDl"
      },
      "source": [
        "The result of the GetQuery() function will be passed into a second function which would take as input the word and the number of results to be displayed and do so!"
      ],
      "id": "1-5WGM8mboDl"
    },
    {
      "cell_type": "code",
      "metadata": {
        "trusted": true,
        "id": "ijLMkfgYboDm"
      },
      "source": [
        "def PrintResult(word, NumQuery):\n",
        "  \n",
        "    global DictionaryOfWords                #Allows us to use the Dictionary as a global variable\n",
        "    \n",
        "    #COMPLETE THE CODE FROM HERE:\n",
        "    \n",
        "    L = DictionaryOfWords[word] \n",
        "    \n",
        "    for i in range(0,min(len(L),NumQuery)):\n",
        "        \n",
        "        PrintContext(int(L[i]))             #Actually print the words surrounding the ith occurence of the given word\n",
        "        "
      ],
      "id": "ijLMkfgYboDm",
      "execution_count": 83,
      "outputs": []
    },
    {
      "cell_type": "markdown",
      "metadata": {
        "id": "Lrr_plK0boDm"
      },
      "source": [
        "Finally, you need an infinite loop which runs until the user wants it to and asks for the next word (if the user wants to query more) or end the loop."
      ],
      "id": "Lrr_plK0boDm"
    },
    {
      "cell_type": "code",
      "metadata": {
        "trusted": true,
        "colab": {
          "base_uri": "https://localhost:8080/",
          "height": 450
        },
        "id": "N8vdj-iYboDn",
        "outputId": "929104ff-9586-478d-8f81-1beb7bdae4a2"
      },
      "source": [
        "while 1>0 :   \n",
        "    \n",
        "    Choice = input('Press Y in order to Continue with the next query or N to end Please press Enter after entering your choice! ')\n",
        "    \n",
        "    #COMPLETE THE CODE FROM HERE:\n",
        "    \n",
        "    if Choice== 'Y' :                     # If the user wants to query \n",
        "        \n",
        "        Query=GetQuery()\n",
        "        #print(Query[0],Query[1])\n",
        "        PrintResult(Query[0], Query[1])                        #Use some of the past defined function to do so\n",
        "        \n",
        "    else:\n",
        "        \n",
        "        break                                 #Else end the loop"
      ],
      "id": "N8vdj-iYboDn",
      "execution_count": 84,
      "outputs": [
        {
          "output_type": "stream",
          "text": [
            "Press Y in order to Continue with the next query or N to end Please press Enter after entering your choice! Y\n",
            "Input word: hello\n",
            "Input number of results you want to see: 2\n"
          ],
          "name": "stdout"
        },
        {
          "output_type": "error",
          "ename": "TypeError",
          "evalue": "ignored",
          "traceback": [
            "\u001b[0;31m---------------------------------------------------------------------------\u001b[0m",
            "\u001b[0;31mTypeError\u001b[0m                                 Traceback (most recent call last)",
            "\u001b[0;32m<ipython-input-84-d0e1a36180a5>\u001b[0m in \u001b[0;36m<module>\u001b[0;34m()\u001b[0m\n\u001b[1;32m      9\u001b[0m         \u001b[0mQuery\u001b[0m\u001b[0;34m=\u001b[0m\u001b[0mGetQuery\u001b[0m\u001b[0;34m(\u001b[0m\u001b[0;34m)\u001b[0m\u001b[0;34m\u001b[0m\u001b[0;34m\u001b[0m\u001b[0m\n\u001b[1;32m     10\u001b[0m         \u001b[0;31m#print(Query[0],Query[1])\u001b[0m\u001b[0;34m\u001b[0m\u001b[0;34m\u001b[0m\u001b[0;34m\u001b[0m\u001b[0m\n\u001b[0;32m---> 11\u001b[0;31m         \u001b[0mPrintResult\u001b[0m\u001b[0;34m(\u001b[0m\u001b[0mQuery\u001b[0m\u001b[0;34m[\u001b[0m\u001b[0;36m0\u001b[0m\u001b[0;34m]\u001b[0m\u001b[0;34m,\u001b[0m \u001b[0mQuery\u001b[0m\u001b[0;34m[\u001b[0m\u001b[0;36m1\u001b[0m\u001b[0;34m]\u001b[0m\u001b[0;34m)\u001b[0m                        \u001b[0;31m#Use some of the past defined function to do so\u001b[0m\u001b[0;34m\u001b[0m\u001b[0;34m\u001b[0m\u001b[0m\n\u001b[0m\u001b[1;32m     12\u001b[0m \u001b[0;34m\u001b[0m\u001b[0m\n\u001b[1;32m     13\u001b[0m     \u001b[0;32melse\u001b[0m\u001b[0;34m:\u001b[0m\u001b[0;34m\u001b[0m\u001b[0;34m\u001b[0m\u001b[0m\n",
            "\u001b[0;32m<ipython-input-83-2c782456ad21>\u001b[0m in \u001b[0;36mPrintResult\u001b[0;34m(word, NumQuery)\u001b[0m\n\u001b[1;32m      7\u001b[0m     \u001b[0mL\u001b[0m \u001b[0;34m=\u001b[0m \u001b[0mDictionaryOfWords\u001b[0m\u001b[0;34m[\u001b[0m\u001b[0mword\u001b[0m\u001b[0;34m]\u001b[0m\u001b[0;34m\u001b[0m\u001b[0;34m\u001b[0m\u001b[0m\n\u001b[1;32m      8\u001b[0m \u001b[0;34m\u001b[0m\u001b[0m\n\u001b[0;32m----> 9\u001b[0;31m     \u001b[0;32mfor\u001b[0m \u001b[0mi\u001b[0m \u001b[0;32min\u001b[0m \u001b[0mrange\u001b[0m\u001b[0;34m(\u001b[0m\u001b[0;36m0\u001b[0m\u001b[0;34m,\u001b[0m\u001b[0mmin\u001b[0m\u001b[0;34m(\u001b[0m\u001b[0mlen\u001b[0m\u001b[0;34m(\u001b[0m\u001b[0mL\u001b[0m\u001b[0;34m)\u001b[0m\u001b[0;34m,\u001b[0m\u001b[0mNumQuery\u001b[0m\u001b[0;34m)\u001b[0m\u001b[0;34m)\u001b[0m\u001b[0;34m:\u001b[0m\u001b[0;34m\u001b[0m\u001b[0;34m\u001b[0m\u001b[0m\n\u001b[0m\u001b[1;32m     10\u001b[0m \u001b[0;34m\u001b[0m\u001b[0m\n\u001b[1;32m     11\u001b[0m         \u001b[0mPrintContext\u001b[0m\u001b[0;34m(\u001b[0m\u001b[0mint\u001b[0m\u001b[0;34m(\u001b[0m\u001b[0mL\u001b[0m\u001b[0;34m[\u001b[0m\u001b[0mi\u001b[0m\u001b[0;34m]\u001b[0m\u001b[0;34m)\u001b[0m\u001b[0;34m)\u001b[0m             \u001b[0;31m#Actually print the words surrounding the ith occurence of the given word\u001b[0m\u001b[0;34m\u001b[0m\u001b[0;34m\u001b[0m\u001b[0m\n",
            "\u001b[0;31mTypeError\u001b[0m: '<' not supported between instances of 'str' and 'int'"
          ]
        }
      ]
    }
  ]
}